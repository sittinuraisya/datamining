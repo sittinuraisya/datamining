{
  "nbformat": 4,
  "nbformat_minor": 0,
  "metadata": {
    "colab": {
      "provenance": [],
      "authorship_tag": "ABX9TyOMbToPr3CmkkgFTWj44oeG",
      "include_colab_link": true
    },
    "kernelspec": {
      "name": "python3",
      "display_name": "Python 3"
    },
    "language_info": {
      "name": "python"
    }
  },
  "cells": [
    {
      "cell_type": "markdown",
      "metadata": {
        "id": "view-in-github",
        "colab_type": "text"
      },
      "source": [
        "<a href=\"https://colab.research.google.com/github/sittinuraisya/datamining/blob/main/F1G122031_Sitti_Nur_Aisya.ipynb\" target=\"_parent\"><img src=\"https://colab.research.google.com/assets/colab-badge.svg\" alt=\"Open In Colab\"/></a>"
      ]
    },
    {
      "cell_type": "code",
      "execution_count": 1,
      "metadata": {
        "id": "l9tC4ZU2_cSZ"
      },
      "outputs": [],
      "source": [
        "import pandas as pd\n",
        "import numpy as np\n",
        "from sklearn.preprocessing import LabelEncoder, StandardScaler"
      ]
    },
    {
      "cell_type": "code",
      "source": [
        "data = {\n",
        "    'Hari': [2, 3, 4, 5, 6, 0, 1, 2, 3, 4],\n",
        "    'Tanggal': [1, 2, 3, 4, 5, 6, 7, 8, 9, 10],\n",
        "    'Kegiatan': [np.nan] * 10,\n",
        "'Curah Hujan (mm)': [1.4, 1.2, 15.2, 13.4, 7.7, 0.6, 1, 0, 0, 3.2],\n",
        "    'Penjualan (pcs)': [0, 27, 458, 20, 7, 0, 4, 350, 1, 240],\n",
        "    'Kategori CH': ['Rendah', 'Rendah', 'Tinggi', 'Tinggi', 'Sedang', 'Rendah', 'Rendah', 'Tidak Hujan', 'Tidak Hujan', 'Tinggi']\n",
        "}"
      ],
      "metadata": {
        "id": "PfdyafZMDn1C"
      },
      "execution_count": 44,
      "outputs": []
    },
    {
      "cell_type": "code",
      "source": [
        "dp = pd.DataFrame(data)"
      ],
      "metadata": {
        "id": "vAnm5OpBDozg"
      },
      "execution_count": 45,
      "outputs": []
    },
    {
      "cell_type": "code",
      "source": [
        "print(dp)"
      ],
      "metadata": {
        "colab": {
          "base_uri": "https://localhost:8080/"
        },
        "id": "AyQJGy_DD1IC",
        "outputId": "17b3dc51-d928-4ec1-f55d-5a8587eb8885"
      },
      "execution_count": 46,
      "outputs": [
        {
          "output_type": "stream",
          "name": "stdout",
          "text": [
            "   Hari  Tanggal  Kegiatan  Curah Hujan (mm)  Penjualan (pcs)  Kategori CH\n",
            "0     2        1       NaN               1.4                0       Rendah\n",
            "1     3        2       NaN               1.2               27       Rendah\n",
            "2     4        3       NaN              15.2              458       Tinggi\n",
            "3     5        4       NaN              13.4               20       Tinggi\n",
            "4     6        5       NaN               7.7                7       Sedang\n",
            "5     0        6       NaN               0.6                0       Rendah\n",
            "6     1        7       NaN               1.0                4       Rendah\n",
            "7     2        8       NaN               0.0              350  Tidak Hujan\n",
            "8     3        9       NaN               0.0                1  Tidak Hujan\n",
            "9     4       10       NaN               3.2              240       Tinggi\n"
          ]
        }
      ]
    },
    {
      "cell_type": "code",
      "source": [
        "mean_values = dp.mean(numeric_only=True)\n",
        "median_values = dp.median(numeric_only=True)\n",
        "mode_values = dp.mode().iloc[0]"
      ],
      "metadata": {
        "id": "UlzInsNDLSqv"
      },
      "execution_count": 53,
      "outputs": []
    },
    {
      "cell_type": "code",
      "source": [
        "print(\"\\nMean:\\n\", mean_values)\n",
        "print(\"\\nMedian:\\n\", median_values)\n",
        "print(\"\\nMode:\\n\", mode_values)"
      ],
      "metadata": {
        "colab": {
          "base_uri": "https://localhost:8080/"
        },
        "id": "Ud2zFuOoLaWb",
        "outputId": "e3e55fd1-5831-4d65-f138-99fe95f4187b"
      },
      "execution_count": 54,
      "outputs": [
        {
          "output_type": "stream",
          "name": "stdout",
          "text": [
            "\n",
            "Mean:\n",
            " Hari                  3.00\n",
            "Tanggal               5.50\n",
            "Kegiatan               NaN\n",
            "Curah Hujan (mm)      4.37\n",
            "Penjualan (pcs)     110.70\n",
            "dtype: float64\n",
            "\n",
            "Median:\n",
            " Hari                 3.0\n",
            "Tanggal              5.5\n",
            "Kegiatan             NaN\n",
            "Curah Hujan (mm)     1.3\n",
            "Penjualan (pcs)     13.5\n",
            "dtype: float64\n",
            "\n",
            "Mode:\n",
            " Hari                   2.0\n",
            "Tanggal                  1\n",
            "Kegiatan               NaN\n",
            "Curah Hujan (mm)       0.0\n",
            "Penjualan (pcs)        0.0\n",
            "Kategori CH         Rendah\n",
            "Name: 0, dtype: object\n"
          ]
        }
      ]
    },
    {
      "cell_type": "code",
      "source": [
        "label_encoder = LabelEncoder()\n",
        "dp['Kategori CH Encoded'] = label_encoder.fit_transform(dp['Kategori CH'])"
      ],
      "metadata": {
        "id": "dwiz0IZ1Lkvt"
      },
      "execution_count": 56,
      "outputs": []
    },
    {
      "cell_type": "code",
      "source": [
        "print(\"\\nData setelah Label Encoding:\\n\", dp)"
      ],
      "metadata": {
        "colab": {
          "base_uri": "https://localhost:8080/"
        },
        "id": "1LMiucXYLqs4",
        "outputId": "4ffa6fec-e457-4779-d548-5e6a3ba3fd3e"
      },
      "execution_count": 57,
      "outputs": [
        {
          "output_type": "stream",
          "name": "stdout",
          "text": [
            "\n",
            "Data setelah Label Encoding:\n",
            "    Hari  Tanggal  Kegiatan  Curah Hujan (mm)  Penjualan (pcs)  Kategori CH  \\\n",
            "0     2        1       NaN               1.4                0       Rendah   \n",
            "1     3        2       NaN               1.2               27       Rendah   \n",
            "2     4        3       NaN              15.2              458       Tinggi   \n",
            "3     5        4       NaN              13.4               20       Tinggi   \n",
            "4     6        5       NaN               7.7                7       Sedang   \n",
            "5     0        6       NaN               0.6                0       Rendah   \n",
            "6     1        7       NaN               1.0                4       Rendah   \n",
            "7     2        8       NaN               0.0              350  Tidak Hujan   \n",
            "8     3        9       NaN               0.0                1  Tidak Hujan   \n",
            "9     4       10       NaN               3.2              240       Tinggi   \n",
            "\n",
            "   Kategori CH Encoded  \n",
            "0                    0  \n",
            "1                    0  \n",
            "2                    3  \n",
            "3                    3  \n",
            "4                    1  \n",
            "5                    0  \n",
            "6                    0  \n",
            "7                    2  \n",
            "8                    2  \n",
            "9                    3  \n"
          ]
        }
      ]
    },
    {
      "cell_type": "code",
      "source": [
        "scaler = StandardScaler()\n",
        "dp[['Curah Hujan (mm)', 'Penjualan (pcs)']] = scaler.fit_transform(dp[['Curah Hujan (mm)', 'Penjualan (pcs)']])"
      ],
      "metadata": {
        "id": "VcLG8DMJGLqs"
      },
      "execution_count": 58,
      "outputs": []
    },
    {
      "cell_type": "code",
      "source": [
        "print(\"\\nData setelah Standardisasi:\\n\", dp)"
      ],
      "metadata": {
        "colab": {
          "base_uri": "https://localhost:8080/"
        },
        "id": "_EmsfxGnL8OS",
        "outputId": "1ec9cace-a654-43df-d83c-499b52979558"
      },
      "execution_count": 60,
      "outputs": [
        {
          "output_type": "stream",
          "name": "stdout",
          "text": [
            "\n",
            "Data setelah Standardisasi:\n",
            "    Hari  Tanggal  Kegiatan  Curah Hujan (mm)  Penjualan (pcs)  Kategori CH  \\\n",
            "0     2        1       NaN         -0.547824        -0.675560       Rendah   \n",
            "1     3        2       NaN         -0.584715        -0.510789       Rendah   \n",
            "2     4        3       NaN          1.997621         2.119441       Tinggi   \n",
            "3     5        4       NaN          1.665607        -0.553508       Tinggi   \n",
            "4     6        5       NaN          0.614227        -0.632842       Sedang   \n",
            "5     0        6       NaN         -0.695386        -0.675560       Rendah   \n",
            "6     1        7       NaN         -0.621605        -0.651150       Rendah   \n",
            "7     2        8       NaN         -0.806058         1.460357  Tidak Hujan   \n",
            "8     3        9       NaN         -0.806058        -0.669458  Tidak Hujan   \n",
            "9     4       10       NaN         -0.215809         0.789069       Tinggi   \n",
            "\n",
            "   Kategori CH Encoded  \n",
            "0                    0  \n",
            "1                    0  \n",
            "2                    3  \n",
            "3                    3  \n",
            "4                    1  \n",
            "5                    0  \n",
            "6                    0  \n",
            "7                    2  \n",
            "8                    2  \n",
            "9                    3  \n"
          ]
        }
      ]
    }
  ]
}